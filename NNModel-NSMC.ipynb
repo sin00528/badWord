{
 "cells": [
  {
   "cell_type": "code",
   "execution_count": 1,
   "metadata": {},
   "outputs": [
    {
     "name": "stderr",
     "output_type": "stream",
     "text": [
      "Using TensorFlow backend.\n"
     ]
    }
   ],
   "source": [
    "import sys\n",
    "import os\n",
    "import numpy as np\n",
    "import json\n",
    "\n",
    "from sklearn.model_selection import train_test_split\n",
    "import pandas as pd\n",
    "\n",
    "import tensorflow as tf\n",
    "import keras.backend.tensorflow_backend as K\n",
    "from keras.utils import np_utils\n",
    "from keras.preprocessing import sequence\n",
    "from keras.models import Sequential\n",
    "from keras.layers import Dense, Embedding, Activation, LSTM, CuDNNGRU, CuDNNLSTM\n",
    "from keras.layers import Dropout, Conv1D, MaxPooling1D, GlobalMaxPool1D\n",
    "from keras.layers import Bidirectional, InputLayer\n",
    "\n",
    "from keras import regularizers \n",
    "from keras.callbacks import EarlyStopping, ModelCheckpoint"
   ]
  },
  {
   "cell_type": "code",
   "execution_count": 2,
   "metadata": {},
   "outputs": [],
   "source": [
    "tf.set_random_seed(201)\n",
    "np.random.seed(201)"
   ]
  },
  {
   "cell_type": "markdown",
   "metadata": {},
   "source": [
    "## 데이터 로드"
   ]
  },
  {
   "cell_type": "code",
   "execution_count": 3,
   "metadata": {},
   "outputs": [],
   "source": [
    "DATA_IN_PATH = './data_nsmc/word_dict/'\n",
    "DATA_OUT_PATH = './data_out/'\n",
    "#INPUT_TRAIN_DATA = 'input.npy'\n",
    "#LABEL_TRAIN_DATA = 'label.npy'\n",
    "#DATA_CONFIGS = 'data_configs.json'\n",
    "\n",
    "INPUT_TRAIN_DATA = 'pos_input.npy'\n",
    "LABEL_TRAIN_DATA = 'pos_label.npy'\n",
    "DATA_CONFIGS = 'pos_data_configs.json'\n",
    "\n",
    "input_data = np.load(open(DATA_IN_PATH + INPUT_TRAIN_DATA, 'rb'))\n",
    "label_data = np.load(open(DATA_IN_PATH + LABEL_TRAIN_DATA, 'rb'))\n",
    "prepro_configs = json.load(open(DATA_IN_PATH + DATA_CONFIGS, 'r',  -1, \"utf-8\"))"
   ]
  },
  {
   "cell_type": "code",
   "execution_count": 4,
   "metadata": {},
   "outputs": [],
   "source": [
    "TEST_SPLIT = 0.2\n",
    "RND_SEED = 0\n",
    "VOCAB_SIZE = prepro_configs['vocab_size']+1\n",
    "EMB_SIZE = 128\n",
    "BATCH_SIZE = 512\n",
    "MAX_LEN = 200\n",
    "max_features = 20000"
   ]
  },
  {
   "cell_type": "code",
   "execution_count": 5,
   "metadata": {},
   "outputs": [],
   "source": [
    "train_input, eval_input, train_label, eval_label = train_test_split(input_data,\n",
    "                                                                    label_data,\n",
    "                                                                    test_size=TEST_SPLIT,\n",
    "                                                                    random_state=RND_SEED)"
   ]
  },
  {
   "cell_type": "code",
   "execution_count": 6,
   "metadata": {},
   "outputs": [],
   "source": [
    "train_input = sequence.pad_sequences(train_input, maxlen=MAX_LEN)\n",
    "eval_input = sequence.pad_sequences(eval_input, maxlen=MAX_LEN)"
   ]
  },
  {
   "cell_type": "markdown",
   "metadata": {},
   "source": [
    "## 모델 설정"
   ]
  },
  {
   "cell_type": "raw",
   "metadata": {},
   "source": [
    "def Model():\n",
    "    model = Sequential()\n",
    "    model.add(Embedding(max_features, 128, input_length=MAX_LEN))\n",
    "    model.add(Dropout(0.3))\n",
    "    model.add(Conv1D(256, 3, padding='valid', kernel_initializer='he_normal', activation='relu', strides=1))\n",
    "    model.add(MaxPooling1D(pool_size=4))\n",
    "    model.add(LSTM(128))\n",
    "    model.add(Dropout(0.3))\n",
    "    model.add(Dense(1, activation='sigmoid'))\n",
    "    \n",
    "    return model"
   ]
  },
  {
   "cell_type": "code",
   "execution_count": 7,
   "metadata": {},
   "outputs": [],
   "source": [
    "def Model():\n",
    "    model = Sequential()\n",
    "    model.add(Embedding(max_features, EMB_SIZE, input_length=MAX_LEN))    \n",
    "    model.add(Bidirectional(CuDNNLSTM(64, return_sequences=True)))\n",
    "    model.add(GlobalMaxPool1D())\n",
    "    model.add(Dropout(0.2))\n",
    "    model.add(Dense(64, activation='relu'))\n",
    "    model.add(Dense(1, activation='sigmoid'))\n",
    "    \n",
    "    return model"
   ]
  },
  {
   "cell_type": "code",
   "execution_count": 8,
   "metadata": {
    "scrolled": true
   },
   "outputs": [
    {
     "name": "stdout",
     "output_type": "stream",
     "text": [
      "WARNING:tensorflow:From C:\\Users\\VI\\Anaconda3\\envs\\badWord\\lib\\site-packages\\tensorflow\\python\\ops\\nn_impl.py:180: add_dispatch_support.<locals>.wrapper (from tensorflow.python.ops.array_ops) is deprecated and will be removed in a future version.\n",
      "Instructions for updating:\n",
      "Use tf.where in 2.0, which has the same broadcast rule as np.where\n",
      "Model: \"sequential_1\"\n",
      "_________________________________________________________________\n",
      "Layer (type)                 Output Shape              Param #   \n",
      "=================================================================\n",
      "embedding_1 (Embedding)      (None, 200, 128)          2560000   \n",
      "_________________________________________________________________\n",
      "bidirectional_1 (Bidirection (None, 200, 128)          99328     \n",
      "_________________________________________________________________\n",
      "global_max_pooling1d_1 (Glob (None, 128)               0         \n",
      "_________________________________________________________________\n",
      "dropout_1 (Dropout)          (None, 128)               0         \n",
      "_________________________________________________________________\n",
      "dense_1 (Dense)              (None, 64)                8256      \n",
      "_________________________________________________________________\n",
      "dense_2 (Dense)              (None, 1)                 65        \n",
      "=================================================================\n",
      "Total params: 2,667,649\n",
      "Trainable params: 2,667,649\n",
      "Non-trainable params: 0\n",
      "_________________________________________________________________\n"
     ]
    }
   ],
   "source": [
    "model = Model()\n",
    "\n",
    "model.compile(loss=tf.keras.losses.BinaryCrossentropy(), optimizer='adam', metrics=['accuracy'])\n",
    "model.summary()"
   ]
  },
  {
   "cell_type": "code",
   "execution_count": 9,
   "metadata": {},
   "outputs": [],
   "source": [
    "# 최선의 모델 model 저장\n",
    "MODEL_PATH = './model/'\n",
    "if not os.path.exists(MODEL_PATH):\n",
    "    os.mkdir(MODEL_PATH)\n",
    "\n",
    "model_full_path = MODEL_PATH + 'best_train_model.hdf5'"
   ]
  },
  {
   "cell_type": "code",
   "execution_count": 10,
   "metadata": {},
   "outputs": [],
   "source": [
    "early_stopping = EarlyStopping(monitor='val_loss', mode='min')\n",
    "check_point = ModelCheckpoint(filepath=model_full_path, monitor='val_loss', verbose=1, save_best_only=True)"
   ]
  },
  {
   "cell_type": "code",
   "execution_count": 11,
   "metadata": {
    "scrolled": false
   },
   "outputs": [
    {
     "name": "stdout",
     "output_type": "stream",
     "text": [
      "WARNING:tensorflow:From C:\\Users\\VI\\Anaconda3\\envs\\badWord\\lib\\site-packages\\keras\\backend\\tensorflow_backend.py:422: The name tf.global_variables is deprecated. Please use tf.compat.v1.global_variables instead.\n",
      "\n",
      "Train on 96000 samples, validate on 24000 samples\n",
      "Epoch 1/10\n",
      "96000/96000 [==============================] - 9s 95us/step - loss: 0.4843 - accuracy: 0.7606 - val_loss: 0.3783 - val_accuracy: 0.8305\n",
      "\n",
      "Epoch 00001: val_loss improved from inf to 0.37829, saving model to ./model/best_train_model.hdf5\n",
      "Epoch 2/10\n",
      "96000/96000 [==============================] - 7s 73us/step - loss: 0.3355 - accuracy: 0.8549 - val_loss: 0.3758 - val_accuracy: 0.8317\n",
      "\n",
      "Epoch 00002: val_loss improved from 0.37829 to 0.37579, saving model to ./model/best_train_model.hdf5\n",
      "Epoch 3/10\n",
      "96000/96000 [==============================] - 7s 72us/step - loss: 0.2941 - accuracy: 0.8768 - val_loss: 0.3888 - val_accuracy: 0.8286\n",
      "\n",
      "Epoch 00003: val_loss did not improve from 0.37579\n"
     ]
    }
   ],
   "source": [
    "with K.tf_ops.device('/device:GPU:0'):\n",
    "    hist = model.fit(train_input, train_label, batch_size = BATCH_SIZE,\n",
    "                     epochs = 10, validation_split = 0.2, callbacks=[early_stopping, check_point])"
   ]
  },
  {
   "cell_type": "code",
   "execution_count": 12,
   "metadata": {
    "scrolled": true
   },
   "outputs": [
    {
     "data": {
      "image/png": "[encoded data removed]",
      "text/plain": [
       "<Figure size 432x288 with 1 Axes>"
      ]
     },
     "metadata": {
      "needs_background": "light"
     },
     "output_type": "display_data"
    }
   ],
   "source": [
    "%matplotlib inline\n",
    "import matplotlib.pyplot as plt\n",
    "\n",
    "plt.plot(hist.history['accuracy'])\n",
    "plt.plot(hist.history['loss'])\n",
    "plt.plot(hist.history['val_accuracy'])\n",
    "plt.plot(hist.history['val_loss'])\n",
    "plt.legend(['training_acc', 'training_loss','validation_acc', 'validation_loss'], loc = 'upper left')\n",
    "plt.show()"
   ]
  },
  {
   "cell_type": "code",
   "execution_count": 13,
   "metadata": {},
   "outputs": [
    {
     "name": "stdout",
     "output_type": "stream",
     "text": [
      "30000/30000 [==============================] - 15s 491us/step\n",
      "Test accuracy:  0.831166684627533\n"
     ]
    }
   ],
   "source": [
    "model.load_weights(model_full_path)\n",
    "results = model.evaluate(eval_input, eval_label)\n",
    "print('Test accuracy: ', results[1])"
   ]
  },
  {
   "cell_type": "markdown",
   "metadata": {},
   "source": [
    "## K-fold validation 사용 "
   ]
  },
  {
   "cell_type": "code",
   "execution_count": 14,
   "metadata": {},
   "outputs": [],
   "source": [
    "from sklearn.model_selection import KFold\n",
    "\n",
    "kf = KFold(n_splits=20, random_state=RND_SEED, shuffle=True)\n",
    "\n",
    "for train_index, test_index in kf.split(input_data):\n",
    "    X_train, X_test = input_data[train_index], input_data[test_index]\n",
    "    y_train, y_test = label_data[train_index], label_data[test_index]\n",
    "    \n",
    "X_train = sequence.pad_sequences(X_train, maxlen=MAX_LEN)\n",
    "X_test = sequence.pad_sequences(X_test, maxlen=MAX_LEN)"
   ]
  },
  {
   "cell_type": "code",
   "execution_count": 15,
   "metadata": {
    "scrolled": true
   },
   "outputs": [
    {
     "name": "stdout",
     "output_type": "stream",
     "text": [
      "Model: \"sequential_2\"\n",
      "_________________________________________________________________\n",
      "Layer (type)                 Output Shape              Param #   \n",
      "=================================================================\n",
      "embedding_2 (Embedding)      (None, 200, 128)          2560000   \n",
      "_________________________________________________________________\n",
      "bidirectional_2 (Bidirection (None, 200, 128)          99328     \n",
      "_________________________________________________________________\n",
      "global_max_pooling1d_2 (Glob (None, 128)               0         \n",
      "_________________________________________________________________\n",
      "dropout_2 (Dropout)          (None, 128)               0         \n",
      "_________________________________________________________________\n",
      "dense_3 (Dense)              (None, 64)                8256      \n",
      "_________________________________________________________________\n",
      "dense_4 (Dense)              (None, 1)                 65        \n",
      "=================================================================\n",
      "Total params: 2,667,649\n",
      "Trainable params: 2,667,649\n",
      "Non-trainable params: 0\n",
      "_________________________________________________________________\n"
     ]
    }
   ],
   "source": [
    "model = Model()\n",
    "\n",
    "model.compile(loss=tf.keras.losses.BinaryCrossentropy(), optimizer='adam', metrics=['accuracy'])\n",
    "model.summary()"
   ]
  },
  {
   "cell_type": "code",
   "execution_count": 16,
   "metadata": {},
   "outputs": [],
   "source": [
    "early_stopping = EarlyStopping(monitor='val_loss', mode='min')"
   ]
  },
  {
   "cell_type": "code",
   "execution_count": 17,
   "metadata": {},
   "outputs": [
    {
     "name": "stdout",
     "output_type": "stream",
     "text": [
      "Epoch 1/10\n",
      "142500/142500 [==============================] - 10s 70us/step - loss: 0.4373 - accuracy: 0.7925\n",
      "Epoch 2/10\n",
      "142500/142500 [==============================] - 10s 67us/step - loss: 0.3281 - accuracy: 0.8579\n",
      "Epoch 3/10\n",
      "142500/142500 [==============================] - 10s 67us/step - loss: 0.2905 - accuracy: 0.8743\n",
      "Epoch 4/10\n",
      "142500/142500 [==============================] - 10s 70us/step - loss: 0.2547 - accuracy: 0.8918\n",
      "Epoch 5/10\n",
      "142500/142500 [==============================] - 10s 69us/step - loss: 0.2161 - accuracy: 0.9096\n",
      "Epoch 6/10\n",
      "142500/142500 [==============================] - 10s 67us/step - loss: 0.1840 - accuracy: 0.9238\n",
      "Epoch 7/10\n",
      "142500/142500 [==============================] - 10s 67us/step - loss: 0.1562 - accuracy: 0.9358\n",
      "Epoch 8/10\n",
      "142500/142500 [==============================] - 10s 69us/step - loss: 0.1332 - accuracy: 0.9457\n",
      "Epoch 9/10\n",
      "142500/142500 [==============================] - 10s 67us/step - loss: 0.1149 - accuracy: 0.9531\n",
      "Epoch 10/10\n",
      "142500/142500 [==============================] - 10s 68us/step - loss: 0.1032 - accuracy: 0.9584\n"
     ]
    }
   ],
   "source": [
    "with K.tf_ops.device('/device:GPU:0'):\n",
    "    hist = model.fit(X_train, y_train, batch_size = BATCH_SIZE, epochs = 10)"
   ]
  },
  {
   "cell_type": "code",
   "execution_count": 18,
   "metadata": {},
   "outputs": [
    {
     "data": {
      "image/png": "[encoded data removed]",
      "text/plain": [
       "<Figure size 432x288 with 1 Axes>"
      ]
     },
     "metadata": {
      "needs_background": "light"
     },
     "output_type": "display_data"
    }
   ],
   "source": [
    "%matplotlib inline\n",
    "import matplotlib.pyplot as plt\n",
    "\n",
    "plt.plot(hist.history['accuracy'])\n",
    "plt.plot(hist.history['loss'])\n",
    "plt.legend(['accuracy', 'loss'], loc = 'upper left')\n",
    "plt.show()"
   ]
  },
  {
   "cell_type": "code",
   "execution_count": 19,
   "metadata": {},
   "outputs": [
    {
     "name": "stdout",
     "output_type": "stream",
     "text": [
      "7500/7500 [==============================] - 4s 478us/step\n",
      "Test accuracy:  0.8102666735649109\n"
     ]
    }
   ],
   "source": [
    "score = model.evaluate(X_test,y_test)\n",
    "print('Test accuracy: ', score[1])"
   ]
  },
  {
   "cell_type": "code",
   "execution_count": null,
   "metadata": {},
   "outputs": [],
   "source": []
  }
 ],
 "metadata": {
  "kernelspec": {
   "display_name": "Python 3",
   "language": "python",
   "name": "python3"
  },
  "language_info": {
   "codemirror_mode": {
    "name": "ipython",
    "version": 3
   },
   "file_extension": ".py",
   "mimetype": "text/x-python",
   "name": "python",
   "nbconvert_exporter": "python",
   "pygments_lexer": "ipython3",
   "version": "3.6.8"
  }
 },
 "nbformat": 4,
 "nbformat_minor": 2
}
