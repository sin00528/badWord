{
 "cells": [
  {
   "cell_type": "code",
   "execution_count": 1,
   "metadata": {},
   "outputs": [
    {
     "name": "stderr",
     "output_type": "stream",
     "text": [
      "Using TensorFlow backend.\n"
     ]
    }
   ],
   "source": [
    "import sys\n",
    "import os\n",
    "import numpy as np\n",
    "import json\n",
    "\n",
    "from sklearn.model_selection import train_test_split\n",
    "import pandas as pd\n",
    "\n",
    "import tensorflow as tf\n",
    "import keras.backend.tensorflow_backend as K\n",
    "from keras.utils import np_utils\n",
    "from keras.preprocessing import sequence\n",
    "from keras.models import Sequential\n",
    "\n",
    "from keras.optimizers import SGD\n",
    "\n",
    "from keras.layers import Bidirectional\n",
    "from keras.layers import Dense, Conv1D, Embedding, Activation, LSTM, CuDNNLSTM\n",
    "from keras.layers import Dropout, MaxPooling1D, GlobalMaxPool1D\n",
    "\n",
    "from keras import regularizers \n",
    "from keras.callbacks import EarlyStopping, ModelCheckpoint"
   ]
  },
  {
   "cell_type": "code",
   "execution_count": 2,
   "metadata": {},
   "outputs": [],
   "source": [
    "import re\n",
    "import json\n",
    "from eunjeon import Mecab\n",
    "from tqdm import tqdm_notebook\n",
    "\n",
    "from tensorflow.python.keras.preprocessing.sequence import pad_sequences\n",
    "from tensorflow.python.keras.preprocessing.text import Tokenizer"
   ]
  },
  {
   "cell_type": "code",
   "execution_count": 3,
   "metadata": {},
   "outputs": [],
   "source": [
    "tf.set_random_seed(201)\n",
    "np.random.seed(201)"
   ]
  },
  {
   "cell_type": "raw",
   "metadata": {},
   "source": [
    "df_union = pd.read_csv('./data/dc_db.csv', sep=',', encoding='utf-8', index_col=0)\n",
    "df_union.head()\n",
    "\n",
    "mecab = Mecab()\n",
    "\n",
    "stop_words = set(['은', '는', '이', '가', '하', '아', '것',\n",
    "                  '들', '의', '있', '되', '수', '보', '주',\n",
    "                  '등', '한'])\n",
    "\n",
    "docs = []"
   ]
  },
  {
   "cell_type": "code",
   "execution_count": 4,
   "metadata": {},
   "outputs": [
    {
     "name": "stderr",
     "output_type": "stream",
     "text": [
      "C:\\Users\\VI\\Anaconda3\\envs\\badWord\\lib\\site-packages\\jpype\\_core.py:210: UserWarning: \n",
      "-------------------------------------------------------------------------------\n",
      "Deprecated: convertStrings was not specified when starting the JVM. The default\n",
      "behavior in JPype will be False starting in JPype 0.8. The recommended setting\n",
      "for new code is convertStrings=False.  The legacy value of True was assumed for\n",
      "this session. If you are a user of an application that reported this warning,\n",
      "please file a ticket with the developer.\n",
      "-------------------------------------------------------------------------------\n",
      "\n",
      "  \"\"\")\n"
     ]
    }
   ],
   "source": [
    "df_union = pd.read_csv('./data/dc_db.csv', sep=',', encoding='utf-8', index_col=0)\n",
    "df_union.head()\n",
    "\n",
    "from konlpy.tag import Okt\n",
    "okt = Okt()\n",
    "\n",
    "stop_words = set(['은', '는', '이', '가', '하', '아', '것',\n",
    "                  '들', '의', '있', '되', '수', '보', '주',\n",
    "                  '등', '한'])\n",
    "\n",
    "docs = []"
   ]
  },
  {
   "cell_type": "code",
   "execution_count": 5,
   "metadata": {},
   "outputs": [],
   "source": [
    "def tokenize(doc):\n",
    "    #return ['/'.join(t) for t in mecab.pos(doc)]\n",
    "    return ['/'.join(t) for t in okt.pos(doc)]"
   ]
  },
  {
   "cell_type": "code",
   "execution_count": 6,
   "metadata": {},
   "outputs": [],
   "source": [
    "def pos_preprocessing(data, okt, remove_stopwords=False, stop_words=[]):\n",
    "    data_text = re.sub(\"[^가-힣ㄱ-ㅎㅏ-ㅣ\\\\s]\", \"\", data)\n",
    "    #words = mecab.morphs(data_text)\n",
    "    words = tokenize(data_text)\n",
    "    if remove_stopwords:\n",
    "        words = [token for token in words]\n",
    "\n",
    "    return words"
   ]
  },
  {
   "cell_type": "markdown",
   "metadata": {},
   "source": [
    "## 테스트 데이터 입력 "
   ]
  },
  {
   "cell_type": "code",
   "execution_count": 7,
   "metadata": {},
   "outputs": [],
   "source": [
    "test_str = '안녕하세요'"
   ]
  },
  {
   "cell_type": "code",
   "execution_count": 8,
   "metadata": {},
   "outputs": [
    {
     "data": {
      "text/html": [
       "<div>\n",
       "<style>\n",
       "    .dataframe thead tr:only-child th {\n",
       "        text-align: right;\n",
       "    }\n",
       "\n",
       "    .dataframe thead th {\n",
       "        text-align: left;\n",
       "    }\n",
       "\n",
       "    .dataframe tbody tr th {\n",
       "        vertical-align: top;\n",
       "    }\n",
       "</style>\n",
       "<table border=\"1\" class=\"dataframe\">\n",
       "  <thead>\n",
       "    <tr style=\"text-align: right;\">\n",
       "      <th></th>\n",
       "      <th>gall_name</th>\n",
       "      <th>cmt_contents</th>\n",
       "      <th>label</th>\n",
       "    </tr>\n",
       "  </thead>\n",
       "  <tbody>\n",
       "    <tr>\n",
       "      <th>9284</th>\n",
       "      <td>history</td>\n",
       "      <td>말로만 가고싶다고 하지말고 직접한번 가봐라 병신들  - dc App</td>\n",
       "      <td>1</td>\n",
       "    </tr>\n",
       "    <tr>\n",
       "      <th>9285</th>\n",
       "      <td>history</td>\n",
       "      <td>단순한 생각의 실험은 아닌 것 같고, 만약 창작의 소재라면...  패망 당시, 국본...</td>\n",
       "      <td>0</td>\n",
       "    </tr>\n",
       "    <tr>\n",
       "      <th>9286</th>\n",
       "      <td>history</td>\n",
       "      <td>음..  예를 들자면 GHQ와 新 공화국 정부가 군부 잔존 세력 및 왕당파 세력의 ...</td>\n",
       "      <td>0</td>\n",
       "    </tr>\n",
       "    <tr>\n",
       "      <th>9287</th>\n",
       "      <td>history</td>\n",
       "      <td>몰랐는데, 한 사람이 장기간 도배 했네.  대단함.  병신력이든, 잉여력이든, 했다...</td>\n",
       "      <td>1</td>\n",
       "    </tr>\n",
       "    <tr>\n",
       "      <th>9288</th>\n",
       "      <td>test_input</td>\n",
       "      <td>안녕하세요</td>\n",
       "      <td></td>\n",
       "    </tr>\n",
       "  </tbody>\n",
       "</table>\n",
       "</div>"
      ],
      "text/plain": [
       "       gall_name                                       cmt_contents label\n",
       "9284     history              말로만 가고싶다고 하지말고 직접한번 가봐라 병신들  - dc App     1\n",
       "9285     history  단순한 생각의 실험은 아닌 것 같고, 만약 창작의 소재라면...  패망 당시, 국본...     0\n",
       "9286     history  음..  예를 들자면 GHQ와 新 공화국 정부가 군부 잔존 세력 및 왕당파 세력의 ...     0\n",
       "9287     history  몰랐는데, 한 사람이 장기간 도배 했네.  대단함.  병신력이든, 잉여력이든, 했다...     1\n",
       "9288  test_input                                              안녕하세요      "
      ]
     },
     "execution_count": 8,
     "metadata": {},
     "output_type": "execute_result"
    }
   ],
   "source": [
    "df_test = pd.Series(['test_input', test_str, ''], index=['gall_name', 'cmt_contents', 'label'])\n",
    "df = df_union.append(df_test, ignore_index=True)\n",
    "df.tail()"
   ]
  },
  {
   "cell_type": "code",
   "execution_count": 9,
   "metadata": {},
   "outputs": [
    {
     "name": "stderr",
     "output_type": "stream",
     "text": [
      "C:\\Users\\VI\\Anaconda3\\envs\\badWord\\lib\\site-packages\\ipykernel_launcher.py:1: TqdmDeprecationWarning: This function will be removed in tqdm==5.0.0\n",
      "Please use `tqdm.notebook.tqdm` instead of `tqdm.tqdm_notebook`\n",
      "  \"\"\"Entry point for launching an IPython kernel.\n"
     ]
    },
    {
     "data": {
      "application/vnd.jupyter.widget-view+json": {
       "model_id": "08dc7bd37f27480682111c4e1d5c8edf",
       "version_major": 2,
       "version_minor": 0
      },
      "text/plain": [
       "HBox(children=(IntProgress(value=0, max=9289), HTML(value='')))"
      ]
     },
     "metadata": {},
     "output_type": "display_data"
    },
    {
     "name": "stdout",
     "output_type": "stream",
     "text": [
      "\n"
     ]
    }
   ],
   "source": [
    "for review in tqdm_notebook(df['cmt_contents']):\n",
    "    if type(review) == str:\n",
    "        docs.append(pos_preprocessing(review, okt, remove_stopwords=False,\n",
    "                                                stop_words=stop_words))\n",
    "    else:\n",
    "        docs.append([])"
   ]
  },
  {
   "cell_type": "code",
   "execution_count": 10,
   "metadata": {},
   "outputs": [],
   "source": [
    "tokenizer = Tokenizer()\n",
    "tokenizer.fit_on_texts(docs)\n",
    "test_sequences = tokenizer.texts_to_sequences(docs)\n",
    "word_vocab = tokenizer.word_index\n",
    "\n",
    "MAX_SEQUENCE_LENGTH = 12\n",
    "\n",
    "test_inputs = pad_sequences(test_sequences, maxlen=MAX_SEQUENCE_LENGTH, padding='post')\n",
    "train_labels = np.array(df['label'])\n",
    "\n",
    "data_configs = {}"
   ]
  },
  {
   "cell_type": "code",
   "execution_count": 11,
   "metadata": {},
   "outputs": [
    {
     "name": "stdout",
     "output_type": "stream",
     "text": [
      "(9288, 12)\n",
      "(9288,)\n"
     ]
    }
   ],
   "source": [
    "input_data = test_inputs[:-1]\n",
    "label_data = train_labels[:-1]\n",
    "print(input_data.shape)\n",
    "print(label_data.shape)"
   ]
  },
  {
   "cell_type": "code",
   "execution_count": 12,
   "metadata": {},
   "outputs": [],
   "source": [
    "data_configs['vocab'] = word_vocab\n",
    "data_configs['vocab_size'] = len(word_vocab)"
   ]
  },
  {
   "cell_type": "markdown",
   "metadata": {},
   "source": [
    "## 데이터 로드"
   ]
  },
  {
   "cell_type": "code",
   "execution_count": 13,
   "metadata": {},
   "outputs": [],
   "source": [
    "TEST_SPLIT = 0.2\n",
    "RND_SEED = 0\n",
    "VOCAB_SIZE = data_configs['vocab_size']+1\n",
    "EMB_SIZE = 128\n",
    "BATCH_SIZE = 512\n",
    "MAX_LEN = 200\n",
    "max_features = 20000"
   ]
  },
  {
   "cell_type": "code",
   "execution_count": 14,
   "metadata": {},
   "outputs": [],
   "source": [
    "train_input, eval_input, train_label, eval_label = train_test_split(input_data,\n",
    "                                                                    label_data,\n",
    "                                                                    test_size=TEST_SPLIT,\n",
    "                                                                    random_state=RND_SEED)"
   ]
  },
  {
   "cell_type": "code",
   "execution_count": 15,
   "metadata": {},
   "outputs": [],
   "source": [
    "train_input = sequence.pad_sequences(train_input, maxlen=MAX_LEN)\n",
    "eval_input = sequence.pad_sequences(eval_input, maxlen=MAX_LEN)"
   ]
  },
  {
   "cell_type": "markdown",
   "metadata": {},
   "source": [
    "## 모델 설정"
   ]
  },
  {
   "cell_type": "raw",
   "metadata": {},
   "source": [
    "def Model():\n",
    "    model = Sequential()\n",
    "    model.add(Embedding(max_features, EMB_SIZE, input_length=MAX_LEN))    \n",
    "    model.add(Bidirectional(LSTM(60, return_sequences=True, dropout=0.3, recurrent_dropout=0.1)))\n",
    "    model.add(GlobalMaxPool1D())\n",
    "    model.add(Dropout(0.2))\n",
    "    model.add(Dense(50, activation='relu'))\n",
    "    model.add(Dropout(0.2))\n",
    "    model.add(Dense(1, activation='sigmoid'))\n",
    "    \n",
    "    return model"
   ]
  },
  {
   "cell_type": "code",
   "execution_count": 16,
   "metadata": {},
   "outputs": [],
   "source": [
    "def Model():\n",
    "    model = Sequential()\n",
    "    model.add(Embedding(max_features, EMB_SIZE, input_length=MAX_LEN))    \n",
    "    model.add(Bidirectional(CuDNNLSTM(64, return_sequences=True)))\n",
    "    model.add(GlobalMaxPool1D())\n",
    "    model.add(Dropout(0.2))\n",
    "    model.add(Dense(64, activation='relu'))\n",
    "    model.add(Dense(1, activation='sigmoid'))\n",
    "    \n",
    "    return model"
   ]
  },
  {
   "cell_type": "code",
   "execution_count": 17,
   "metadata": {
    "scrolled": true
   },
   "outputs": [
    {
     "name": "stdout",
     "output_type": "stream",
     "text": [
      "WARNING:tensorflow:From C:\\Users\\VI\\Anaconda3\\envs\\badWord\\lib\\site-packages\\tensorflow\\python\\ops\\nn_impl.py:180: add_dispatch_support.<locals>.wrapper (from tensorflow.python.ops.array_ops) is deprecated and will be removed in a future version.\n",
      "Instructions for updating:\n",
      "Use tf.where in 2.0, which has the same broadcast rule as np.where\n",
      "Model: \"sequential_1\"\n",
      "_________________________________________________________________\n",
      "Layer (type)                 Output Shape              Param #   \n",
      "=================================================================\n",
      "embedding_1 (Embedding)      (None, 200, 128)          2560000   \n",
      "_________________________________________________________________\n",
      "bidirectional_1 (Bidirection (None, 200, 128)          99328     \n",
      "_________________________________________________________________\n",
      "global_max_pooling1d_1 (Glob (None, 128)               0         \n",
      "_________________________________________________________________\n",
      "dropout_1 (Dropout)          (None, 128)               0         \n",
      "_________________________________________________________________\n",
      "dense_1 (Dense)              (None, 64)                8256      \n",
      "_________________________________________________________________\n",
      "dense_2 (Dense)              (None, 1)                 65        \n",
      "=================================================================\n",
      "Total params: 2,667,649\n",
      "Trainable params: 2,667,649\n",
      "Non-trainable params: 0\n",
      "_________________________________________________________________\n"
     ]
    }
   ],
   "source": [
    "model = Model()\n",
    "\n",
    "model.compile(loss=tf.keras.losses.BinaryCrossentropy(), optimizer='adam', metrics=['accuracy'])\n",
    "model.summary()"
   ]
  },
  {
   "cell_type": "code",
   "execution_count": 18,
   "metadata": {},
   "outputs": [],
   "source": [
    "# 최선의 모델 model 저장\n",
    "MODEL_PATH = './model/'\n",
    "if not os.path.exists(MODEL_PATH):\n",
    "    os.mkdir(MODEL_PATH)\n",
    "\n",
    "model_full_path = MODEL_PATH + 'best_train_model.hdf5'"
   ]
  },
  {
   "cell_type": "code",
   "execution_count": 19,
   "metadata": {},
   "outputs": [],
   "source": [
    "early_stopping = EarlyStopping(monitor='val_loss', mode='min')\n",
    "check_point = ModelCheckpoint(filepath=model_full_path, monitor='val_loss', verbose=0, save_best_only=True)"
   ]
  },
  {
   "cell_type": "code",
   "execution_count": 20,
   "metadata": {},
   "outputs": [
    {
     "name": "stdout",
     "output_type": "stream",
     "text": [
      "WARNING:tensorflow:From C:\\Users\\VI\\Anaconda3\\envs\\badWord\\lib\\site-packages\\keras\\backend\\tensorflow_backend.py:422: The name tf.global_variables is deprecated. Please use tf.compat.v1.global_variables instead.\n",
      "\n",
      "Train on 5944 samples, validate on 1486 samples\n",
      "Epoch 1/10\n",
      "5944/5944 [==============================] - ETA: 20s - loss: 0.7017 - accuracy: 0.224 - ETA: 9s - loss: 0.6953 - accuracy: 0.494 - ETA: 3s - loss: 0.6840 - accuracy: 0.63 - ETA: 2s - loss: 0.6717 - accuracy: 0.68 - ETA: 1s - loss: 0.6655 - accuracy: 0.69 - ETA: 0s - loss: 0.6519 - accuracy: 0.70 - ETA: 0s - loss: 0.6426 - accuracy: 0.71 - 3s 425us/step - loss: 0.6296 - accuracy: 0.7211 - val_loss: 0.5259 - val_accuracy: 0.7833\n",
      "Epoch 2/10\n",
      "5944/5944 [==============================] - ETA: 0s - loss: 0.5160 - accuracy: 0.78 - ETA: 0s - loss: 0.5286 - accuracy: 0.78 - ETA: 0s - loss: 0.5375 - accuracy: 0.78 - ETA: 0s - loss: 0.5515 - accuracy: 0.77 - ETA: 0s - loss: 0.5478 - accuracy: 0.77 - ETA: 0s - loss: 0.5444 - accuracy: 0.77 - 0s 79us/step - loss: 0.5458 - accuracy: 0.7710 - val_loss: 0.5321 - val_accuracy: 0.7833\n"
     ]
    }
   ],
   "source": [
    "with K.tf_ops.device('/device:GPU:0'):\n",
    "    hist = model.fit(train_input, train_label, batch_size = BATCH_SIZE,\n",
    "                     epochs = 10, validation_split = 0.2, callbacks=[early_stopping, check_point])"
   ]
  },
  {
   "cell_type": "code",
   "execution_count": 21,
   "metadata": {},
   "outputs": [
    {
     "data": {
      "image/png": "[encoded data removed]",
      "text/plain": [
       "<Figure size 432x288 with 1 Axes>"
      ]
     },
     "metadata": {
      "needs_background": "light"
     },
     "output_type": "display_data"
    }
   ],
   "source": [
    "%matplotlib inline\n",
    "import matplotlib.pyplot as plt\n",
    "\n",
    "plt.plot(hist.history['accuracy'])\n",
    "plt.plot(hist.history['loss'])\n",
    "plt.plot(hist.history['val_accuracy'])\n",
    "plt.plot(hist.history['val_loss'])\n",
    "plt.legend(['training_acc', 'training_loss','validation_acc', 'validation_loss'], loc = 'upper left')\n",
    "plt.show()"
   ]
  },
  {
   "cell_type": "code",
   "execution_count": 22,
   "metadata": {},
   "outputs": [
    {
     "name": "stdout",
     "output_type": "stream",
     "text": [
      "1858/1858 [==============================] - ETA:  - ETA:  - ETA:  - ETA:  - ETA:  - ETA:  - ETA:  - ETA:  - ETA:  - ETA:  - ETA:  - ETA:  - ETA:  - ETA:  - ETA:  - ETA:  - ETA:  - 1s 515us/step\n"
     ]
    }
   ],
   "source": [
    "model.load_weights(model_full_path)\n",
    "results = model.evaluate(eval_input, eval_label)"
   ]
  },
  {
   "cell_type": "code",
   "execution_count": 23,
   "metadata": {},
   "outputs": [
    {
     "name": "stdout",
     "output_type": "stream",
     "text": [
      "Test accuracy:  0.7814854979515076\n"
     ]
    }
   ],
   "source": [
    "print('Test accuracy: ', results[1])"
   ]
  },
  {
   "cell_type": "markdown",
   "metadata": {},
   "source": [
    "## K-fold validation 사용 "
   ]
  },
  {
   "cell_type": "code",
   "execution_count": 24,
   "metadata": {},
   "outputs": [],
   "source": [
    "from sklearn.model_selection import KFold\n",
    "\n",
    "kf = KFold(n_splits=20, random_state=RND_SEED, shuffle=True)\n",
    "\n",
    "for train_index, test_index in kf.split(input_data):\n",
    "    X_train, X_test = input_data[train_index], input_data[test_index]\n",
    "    y_train, y_test = label_data[train_index], label_data[test_index]\n",
    "    \n",
    "X_train = sequence.pad_sequences(X_train, maxlen=MAX_LEN)\n",
    "X_test = sequence.pad_sequences(X_test, maxlen=MAX_LEN)"
   ]
  },
  {
   "cell_type": "code",
   "execution_count": 25,
   "metadata": {
    "scrolled": true
   },
   "outputs": [
    {
     "name": "stdout",
     "output_type": "stream",
     "text": [
      "Model: \"sequential_2\"\n",
      "_________________________________________________________________\n",
      "Layer (type)                 Output Shape              Param #   \n",
      "=================================================================\n",
      "embedding_2 (Embedding)      (None, 200, 128)          2560000   \n",
      "_________________________________________________________________\n",
      "bidirectional_2 (Bidirection (None, 200, 128)          99328     \n",
      "_________________________________________________________________\n",
      "global_max_pooling1d_2 (Glob (None, 128)               0         \n",
      "_________________________________________________________________\n",
      "dropout_2 (Dropout)          (None, 128)               0         \n",
      "_________________________________________________________________\n",
      "dense_3 (Dense)              (None, 64)                8256      \n",
      "_________________________________________________________________\n",
      "dense_4 (Dense)              (None, 1)                 65        \n",
      "=================================================================\n",
      "Total params: 2,667,649\n",
      "Trainable params: 2,667,649\n",
      "Non-trainable params: 0\n",
      "_________________________________________________________________\n"
     ]
    }
   ],
   "source": [
    "model = Model()\n",
    "\n",
    "model.compile(loss=tf.keras.losses.BinaryCrossentropy(), optimizer='adam', metrics=['accuracy'])\n",
    "model.summary()"
   ]
  },
  {
   "cell_type": "code",
   "execution_count": 26,
   "metadata": {},
   "outputs": [
    {
     "name": "stdout",
     "output_type": "stream",
     "text": [
      "Epoch 1/5\n",
      "8824/8824 [==============================] - ETA: 6s - loss: 0.7014 - accuracy: 0.19 - ETA: 2s - loss: 0.6857 - accuracy: 0.58 - ETA: 1s - loss: 0.6788 - accuracy: 0.63 - ETA: 1s - loss: 0.6647 - accuracy: 0.67 - ETA: 0s - loss: 0.6497 - accuracy: 0.69 - ETA: 0s - loss: 0.6293 - accuracy: 0.71 - ETA: 0s - loss: 0.6193 - accuracy: 0.71 - ETA: 0s - loss: 0.6087 - accuracy: 0.72 - ETA: 0s - loss: 0.6015 - accuracy: 0.73 - ETA: 0s - loss: 0.5963 - accuracy: 0.73 - 1s 119us/step - loss: 0.5959 - accuracy: 0.7375\n",
      "Epoch 2/5\n",
      "8824/8824 [==============================] - ETA: 0s - loss: 0.5500 - accuracy: 0.76 - ETA: 0s - loss: 0.5339 - accuracy: 0.77 - ETA: 0s - loss: 0.5369 - accuracy: 0.77 - ETA: 0s - loss: 0.5369 - accuracy: 0.77 - ETA: 0s - loss: 0.5372 - accuracy: 0.77 - ETA: 0s - loss: 0.5363 - accuracy: 0.77 - ETA: 0s - loss: 0.5380 - accuracy: 0.77 - ETA: 0s - loss: 0.5402 - accuracy: 0.77 - ETA: 0s - loss: 0.5375 - accuracy: 0.77 - ETA: 0s - loss: 0.5362 - accuracy: 0.77 - 1s 75us/step - loss: 0.5354 - accuracy: 0.7736\n",
      "Epoch 3/5\n",
      "8824/8824 [==============================] - ETA: 0s - loss: 0.5301 - accuracy: 0.76 - ETA: 0s - loss: 0.5287 - accuracy: 0.77 - ETA: 0s - loss: 0.5257 - accuracy: 0.77 - ETA: 0s - loss: 0.5253 - accuracy: 0.77 - ETA: 0s - loss: 0.5268 - accuracy: 0.77 - ETA: 0s - loss: 0.5244 - accuracy: 0.77 - ETA: 0s - loss: 0.5267 - accuracy: 0.77 - ETA: 0s - loss: 0.5228 - accuracy: 0.77 - ETA: 0s - loss: 0.5213 - accuracy: 0.77 - 1s 75us/step - loss: 0.5205 - accuracy: 0.7736\n",
      "Epoch 4/5\n",
      "8824/8824 [==============================] - ETA: 0s - loss: 0.4911 - accuracy: 0.78 - ETA: 0s - loss: 0.5095 - accuracy: 0.76 - ETA: 0s - loss: 0.5052 - accuracy: 0.75 - ETA: 0s - loss: 0.4904 - accuracy: 0.76 - ETA: 0s - loss: 0.4822 - accuracy: 0.77 - ETA: 0s - loss: 0.4749 - accuracy: 0.77 - ETA: 0s - loss: 0.4632 - accuracy: 0.78 - ETA: 0s - loss: 0.4569 - accuracy: 0.78 - ETA: 0s - loss: 0.4486 - accuracy: 0.79 - 1s 73us/step - loss: 0.4476 - accuracy: 0.7926\n",
      "Epoch 5/5\n",
      "8824/8824 [==============================] - ETA: 0s - loss: 0.3167 - accuracy: 0.87 - ETA: 0s - loss: 0.3103 - accuracy: 0.87 - ETA: 0s - loss: 0.2993 - accuracy: 0.88 - ETA: 0s - loss: 0.2881 - accuracy: 0.88 - ETA: 0s - loss: 0.2803 - accuracy: 0.88 - ETA: 0s - loss: 0.2797 - accuracy: 0.88 - ETA: 0s - loss: 0.2708 - accuracy: 0.89 - ETA: 0s - loss: 0.2720 - accuracy: 0.89 - ETA: 0s - loss: 0.2696 - accuracy: 0.89 - ETA: 0s - loss: 0.2667 - accuracy: 0.89 - 1s 75us/step - loss: 0.2668 - accuracy: 0.8942\n"
     ]
    }
   ],
   "source": [
    "with K.tf_ops.device('/device:GPU:0'):\n",
    "    hist = model.fit(X_train, y_train, batch_size = BATCH_SIZE, epochs = 5)"
   ]
  },
  {
   "cell_type": "code",
   "execution_count": 27,
   "metadata": {},
   "outputs": [
    {
     "data": {
      "image/png": "[encoded data removed]",
      "text/plain": [
       "<Figure size 432x288 with 1 Axes>"
      ]
     },
     "metadata": {
      "needs_background": "light"
     },
     "output_type": "display_data"
    }
   ],
   "source": [
    "%matplotlib inline\n",
    "import matplotlib.pyplot as plt\n",
    "\n",
    "plt.plot(hist.history['accuracy'])\n",
    "plt.plot(hist.history['loss'])\n",
    "plt.legend(['accuracy', 'loss'], loc = 'upper left')\n",
    "plt.show()"
   ]
  },
  {
   "cell_type": "code",
   "execution_count": 28,
   "metadata": {},
   "outputs": [
    {
     "name": "stdout",
     "output_type": "stream",
     "text": [
      "464/464 [==============================] - ETA:  - ETA:  - ETA:  - ETA:  - ETA:  - 0s 758us/step\n"
     ]
    }
   ],
   "source": [
    "score = model.evaluate(X_test,y_test)"
   ]
  },
  {
   "cell_type": "code",
   "execution_count": 29,
   "metadata": {},
   "outputs": [
    {
     "name": "stdout",
     "output_type": "stream",
     "text": [
      "Test accuracy:  0.8879310488700867\n"
     ]
    }
   ],
   "source": [
    "print('Test accuracy: ', score[1])"
   ]
  },
  {
   "cell_type": "markdown",
   "metadata": {},
   "source": [
    "## 테스트"
   ]
  },
  {
   "cell_type": "code",
   "execution_count": 30,
   "metadata": {},
   "outputs": [
    {
     "data": {
      "text/plain": [
       "array([[0]])"
      ]
     },
     "execution_count": 30,
     "metadata": {},
     "output_type": "execute_result"
    }
   ],
   "source": [
    "test = sequence.pad_sequences(test_inputs, maxlen=MAX_LEN)\n",
    "test_in = np.reshape(test[-1], [-1, 200])\n",
    "test_in\n",
    "\n",
    "model.predict_classes(test_in)"
   ]
  },
  {
   "cell_type": "code",
   "execution_count": null,
   "metadata": {},
   "outputs": [],
   "source": []
  }
 ],
 "metadata": {
  "kernelspec": {
   "display_name": "Python 3",
   "language": "python",
   "name": "python3"
  },
  "language_info": {
   "codemirror_mode": {
    "name": "ipython",
    "version": 3
   },
   "file_extension": ".py",
   "mimetype": "text/x-python",
   "name": "python",
   "nbconvert_exporter": "python",
   "pygments_lexer": "ipython3",
   "version": "3.6.8"
  }
 },
 "nbformat": 4,
 "nbformat_minor": 2
}
