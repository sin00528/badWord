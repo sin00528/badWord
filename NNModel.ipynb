{
 "cells": [
  {
   "cell_type": "code",
   "execution_count": 1,
   "metadata": {},
   "outputs": [
    {
     "name": "stderr",
     "output_type": "stream",
     "text": [
      "Using TensorFlow backend.\n"
     ]
    }
   ],
   "source": [
    "import sys\n",
    "import os\n",
    "import numpy as np\n",
    "import json\n",
    "\n",
    "from sklearn.model_selection import train_test_split\n",
    "import pandas as pd\n",
    "\n",
    "import tensorflow as tf\n",
    "import keras.backend.tensorflow_backend as K\n",
    "from keras.utils import np_utils\n",
    "from keras.preprocessing import sequence\n",
    "from keras.models import Sequential\n",
    "from keras.layers import Dense, Embedding, Activation, LSTM, CuDNNGRU, CuDNNLSTM\n",
    "from keras.layers import Dropout, Conv1D, MaxPooling1D, GlobalMaxPool1D\n",
    "from keras.layers import Bidirectional, InputLayer\n",
    "\n",
    "from keras import regularizers \n",
    "from keras.callbacks import EarlyStopping, ModelCheckpoint, ModelCheckpoint"
   ]
  },
  {
   "cell_type": "code",
   "execution_count": 2,
   "metadata": {},
   "outputs": [],
   "source": [
    "tf.set_random_seed(0)"
   ]
  },
  {
   "cell_type": "markdown",
   "metadata": {},
   "source": [
    "## 데이터 로드"
   ]
  },
  {
   "cell_type": "code",
   "execution_count": 3,
   "metadata": {},
   "outputs": [],
   "source": [
    "DATA_IN_PATH = './data/word_dict/'\n",
    "DATA_OUT_PATH = './data_out/'\n",
    "#INPUT_TRAIN_DATA = 'input.npy'\n",
    "#LABEL_TRAIN_DATA = 'label.npy'\n",
    "#DATA_CONFIGS = 'data_configs.json'\n",
    "\n",
    "INPUT_TRAIN_DATA = 'pos_input.npy'\n",
    "LABEL_TRAIN_DATA = 'pos_label.npy'\n",
    "DATA_CONFIGS = 'pos_data_configs.json'\n",
    "\n",
    "input_data = np.load(open(DATA_IN_PATH + INPUT_TRAIN_DATA, 'rb'))\n",
    "label_data = np.load(open(DATA_IN_PATH + LABEL_TRAIN_DATA, 'rb'))\n",
    "prepro_configs = json.load(open(DATA_IN_PATH + DATA_CONFIGS, 'r',  -1, \"utf-8\"))"
   ]
  },
  {
   "cell_type": "code",
   "execution_count": 4,
   "metadata": {},
   "outputs": [],
   "source": [
    "TEST_SPLIT = 0.1\n",
    "RND_SEED = 0\n",
    "VOCAB_SIZE = prepro_configs['vocab_size']+1\n",
    "EMB_SIZE = 128\n",
    "BATCH_SIZE = 512\n",
    "MAX_LEN = 200\n",
    "max_features = 20000"
   ]
  },
  {
   "cell_type": "code",
   "execution_count": 5,
   "metadata": {
    "scrolled": true
   },
   "outputs": [],
   "source": [
    "train_input, eval_input, train_label, eval_label = train_test_split(input_data,\n",
    "                                                                    label_data,\n",
    "                                                                    test_size=TEST_SPLIT,\n",
    "                                                                    random_state=RND_SEED)"
   ]
  },
  {
   "cell_type": "code",
   "execution_count": 6,
   "metadata": {},
   "outputs": [],
   "source": [
    "train_input = sequence.pad_sequences(train_input, maxlen=MAX_LEN)\n",
    "eval_input = sequence.pad_sequences(eval_input, maxlen=MAX_LEN)"
   ]
  },
  {
   "cell_type": "markdown",
   "metadata": {},
   "source": [
    "## 모델 설정"
   ]
  },
  {
   "cell_type": "raw",
   "metadata": {},
   "source": [
    "def Model():\n",
    "    model = Sequential()\n",
    "    model.add(Embedding(max_features, 128, input_length=text_max_words))\n",
    "    model.add(Dropout(0.3))\n",
    "    model.add(Conv1D(256, 3, padding='valid', kernel_initializer='he_normal', activation='relu', strides=1))\n",
    "    model.add(MaxPooling1D(pool_size=4))\n",
    "    model.add(LSTM(128))\n",
    "    model.add(Dropout(0.3))\n",
    "    model.add(Dense(1, activation='sigmoid'))\n",
    "    \n",
    "    return model"
   ]
  },
  {
   "cell_type": "code",
   "execution_count": 7,
   "metadata": {},
   "outputs": [],
   "source": [
    "def Model():\n",
    "    model = Sequential()\n",
    "    model.add(Embedding(max_features, EMB_SIZE, input_length=MAX_LEN))    \n",
    "    model.add(Bidirectional(LSTM(60, return_sequences=True, dropout=0.3, recurrent_dropout=0.1)))\n",
    "    model.add(GlobalMaxPool1D())\n",
    "    model.add(Dropout(0.2))\n",
    "    model.add(Dense(50, activation='relu'))\n",
    "    model.add(Dropout(0.2))\n",
    "    model.add(Dense(1, activation='sigmoid'))\n",
    "    \n",
    "    return model"
   ]
  },
  {
   "cell_type": "code",
   "execution_count": 8,
   "metadata": {
    "scrolled": true
   },
   "outputs": [
    {
     "name": "stdout",
     "output_type": "stream",
     "text": [
      "WARNING:tensorflow:From C:\\Users\\VI\\Anaconda3\\envs\\badWord\\lib\\site-packages\\tensorflow\\python\\ops\\nn_impl.py:180: add_dispatch_support.<locals>.wrapper (from tensorflow.python.ops.array_ops) is deprecated and will be removed in a future version.\n",
      "Instructions for updating:\n",
      "Use tf.where in 2.0, which has the same broadcast rule as np.where\n",
      "Model: \"sequential_1\"\n",
      "_________________________________________________________________\n",
      "Layer (type)                 Output Shape              Param #   \n",
      "=================================================================\n",
      "embedding_1 (Embedding)      (None, 200, 128)          2560000   \n",
      "_________________________________________________________________\n",
      "bidirectional_1 (Bidirection (None, 200, 120)          90720     \n",
      "_________________________________________________________________\n",
      "global_max_pooling1d_1 (Glob (None, 120)               0         \n",
      "_________________________________________________________________\n",
      "dropout_1 (Dropout)          (None, 120)               0         \n",
      "_________________________________________________________________\n",
      "dense_1 (Dense)              (None, 50)                6050      \n",
      "_________________________________________________________________\n",
      "dropout_2 (Dropout)          (None, 50)                0         \n",
      "_________________________________________________________________\n",
      "dense_2 (Dense)              (None, 1)                 51        \n",
      "=================================================================\n",
      "Total params: 2,656,821\n",
      "Trainable params: 2,656,821\n",
      "Non-trainable params: 0\n",
      "_________________________________________________________________\n"
     ]
    }
   ],
   "source": [
    "model = Model()\n",
    "\n",
    "model.compile(loss=tf.keras.losses.BinaryCrossentropy(), optimizer='rmsprop', metrics=['accuracy'])\n",
    "model.summary()"
   ]
  },
  {
   "cell_type": "code",
   "execution_count": 9,
   "metadata": {},
   "outputs": [],
   "source": [
    "# 최선의 모델 model 저장\n",
    "MODEL_PATH = './model/'\n",
    "if not os.path.exists(MODEL_PATH):\n",
    "    os.mkdir(MODEL_PATH)\n",
    "\n",
    "model_full_path = MODEL_PATH + 'best_train_model.hdf5'"
   ]
  },
  {
   "cell_type": "code",
   "execution_count": 10,
   "metadata": {},
   "outputs": [],
   "source": [
    "early_stopping = EarlyStopping(monitor='val_loss', mode='min')\n",
    "check_point = ModelCheckpoint(filepath=model_full_path, monitor='val_loss', verbose=1, save_best_only=True)"
   ]
  },
  {
   "cell_type": "code",
   "execution_count": 11,
   "metadata": {
    "scrolled": false
   },
   "outputs": [
    {
     "name": "stdout",
     "output_type": "stream",
     "text": [
      "WARNING:tensorflow:From C:\\Users\\VI\\Anaconda3\\envs\\badWord\\lib\\site-packages\\keras\\backend\\tensorflow_backend.py:422: The name tf.global_variables is deprecated. Please use tf.compat.v1.global_variables instead.\n",
      "\n",
      "Train on 6687 samples, validate on 1672 samples\n",
      "Epoch 1/10\n",
      "6687/6687 [==============================] - 5s 802us/step - loss: 0.5671 - accuracy: 0.7709 - val_loss: 0.5375 - val_accuracy: 0.7811\n",
      "\n",
      "Epoch 00001: val_loss improved from inf to 0.53749, saving model to ./model/best_train_model.hdf5\n",
      "Epoch 2/10\n",
      "6687/6687 [==============================] - 4s 663us/step - loss: 0.5355 - accuracy: 0.7734 - val_loss: 0.5159 - val_accuracy: 0.7811\n",
      "\n",
      "Epoch 00002: val_loss improved from 0.53749 to 0.51595, saving model to ./model/best_train_model.hdf5\n",
      "Epoch 3/10\n",
      "6687/6687 [==============================] - 4s 646us/step - loss: 0.5092 - accuracy: 0.7739 - val_loss: 0.5003 - val_accuracy: 0.7811\n",
      "\n",
      "Epoch 00003: val_loss improved from 0.51595 to 0.50032, saving model to ./model/best_train_model.hdf5\n",
      "Epoch 4/10\n",
      "6687/6687 [==============================] - 4s 651us/step - loss: 0.4407 - accuracy: 0.8038 - val_loss: 0.4484 - val_accuracy: 0.8050\n",
      "\n",
      "Epoch 00004: val_loss improved from 0.50032 to 0.44844, saving model to ./model/best_train_model.hdf5\n",
      "Epoch 5/10\n",
      "6687/6687 [==============================] - 4s 665us/step - loss: 0.3461 - accuracy: 0.8620 - val_loss: 0.3815 - val_accuracy: 0.8421\n",
      "\n",
      "Epoch 00005: val_loss improved from 0.44844 to 0.38153, saving model to ./model/best_train_model.hdf5\n",
      "Epoch 6/10\n",
      "6687/6687 [==============================] - 4s 655us/step - loss: 0.2754 - accuracy: 0.8985 - val_loss: 0.4095 - val_accuracy: 0.8289\n",
      "\n",
      "Epoch 00006: val_loss did not improve from 0.38153\n"
     ]
    }
   ],
   "source": [
    "with K.tf_ops.device('/device:GPU:0'):\n",
    "    hist = model.fit(train_input, train_label, batch_size = BATCH_SIZE,\n",
    "                     epochs = 10, validation_split = 0.2, callbacks=[early_stopping, check_point])"
   ]
  },
  {
   "cell_type": "code",
   "execution_count": 12,
   "metadata": {
    "scrolled": true
   },
   "outputs": [
    {
     "data": {
      "image/png": "[encoded data removed]",
      "text/plain": [
       "<Figure size 432x288 with 1 Axes>"
      ]
     },
     "metadata": {
      "needs_background": "light"
     },
     "output_type": "display_data"
    }
   ],
   "source": [
    "%matplotlib inline\n",
    "import matplotlib.pyplot as plt\n",
    "\n",
    "plt.plot(hist.history['accuracy'])\n",
    "plt.plot(hist.history['loss'])\n",
    "plt.plot(hist.history['val_accuracy'])\n",
    "plt.plot(hist.history['val_loss'])\n",
    "plt.legend(['training_acc', 'training_loss','validation_acc', 'validation_loss'], loc = 'upper left')\n",
    "plt.show()"
   ]
  },
  {
   "cell_type": "code",
   "execution_count": 13,
   "metadata": {},
   "outputs": [
    {
     "name": "stdout",
     "output_type": "stream",
     "text": [
      "929/929 [==============================] - 3s 4ms/step\n",
      "Test accuracy:  0.8320775032043457\n"
     ]
    }
   ],
   "source": [
    "results = model.evaluate(eval_input, eval_label)\n",
    "print('Test accuracy: ', results[1])"
   ]
  },
  {
   "cell_type": "markdown",
   "metadata": {},
   "source": [
    "## 모델 사용 "
   ]
  },
  {
   "cell_type": "code",
   "execution_count": 14,
   "metadata": {},
   "outputs": [],
   "source": [
    "#model.predict_classes(train_input[:8])"
   ]
  },
  {
   "cell_type": "code",
   "execution_count": 15,
   "metadata": {},
   "outputs": [],
   "source": [
    "#hist.history"
   ]
  },
  {
   "cell_type": "markdown",
   "metadata": {},
   "source": [
    "## K-fold validation 사용 "
   ]
  },
  {
   "cell_type": "code",
   "execution_count": 16,
   "metadata": {},
   "outputs": [],
   "source": [
    "from sklearn.model_selection import KFold\n",
    "\n",
    "kf = KFold(n_splits=20, random_state=RND_SEED, shuffle=True)\n",
    "\n",
    "for train_index, test_index in kf.split(input_data):\n",
    "    X_train, X_test = input_data[train_index], input_data[test_index]\n",
    "    y_train, y_test = label_data[train_index], label_data[test_index]\n",
    "    \n",
    "X_train = sequence.pad_sequences(X_train, maxlen=MAX_LEN)\n",
    "X_test = sequence.pad_sequences(X_test, maxlen=MAX_LEN)"
   ]
  },
  {
   "cell_type": "code",
   "execution_count": 17,
   "metadata": {
    "scrolled": true
   },
   "outputs": [
    {
     "name": "stdout",
     "output_type": "stream",
     "text": [
      "Model: \"sequential_2\"\n",
      "_________________________________________________________________\n",
      "Layer (type)                 Output Shape              Param #   \n",
      "=================================================================\n",
      "embedding_2 (Embedding)      (None, 200, 128)          2560000   \n",
      "_________________________________________________________________\n",
      "bidirectional_2 (Bidirection (None, 200, 120)          90720     \n",
      "_________________________________________________________________\n",
      "global_max_pooling1d_2 (Glob (None, 120)               0         \n",
      "_________________________________________________________________\n",
      "dropout_3 (Dropout)          (None, 120)               0         \n",
      "_________________________________________________________________\n",
      "dense_3 (Dense)              (None, 50)                6050      \n",
      "_________________________________________________________________\n",
      "dropout_4 (Dropout)          (None, 50)                0         \n",
      "_________________________________________________________________\n",
      "dense_4 (Dense)              (None, 1)                 51        \n",
      "=================================================================\n",
      "Total params: 2,656,821\n",
      "Trainable params: 2,656,821\n",
      "Non-trainable params: 0\n",
      "_________________________________________________________________\n"
     ]
    }
   ],
   "source": [
    "model = Model()\n",
    "\n",
    "model.compile(loss=tf.keras.losses.BinaryCrossentropy(), optimizer='rmsprop', metrics=['accuracy'])\n",
    "model.summary()"
   ]
  },
  {
   "cell_type": "code",
   "execution_count": 18,
   "metadata": {},
   "outputs": [],
   "source": [
    "early_stopping = EarlyStopping(monitor='val_loss', mode='min')"
   ]
  },
  {
   "cell_type": "code",
   "execution_count": 19,
   "metadata": {},
   "outputs": [
    {
     "name": "stdout",
     "output_type": "stream",
     "text": [
      "Epoch 1/10\n",
      "8824/8824 [==============================] - 6s 633us/step - loss: 0.5691 - accuracy: 0.7407\n",
      "Epoch 2/10\n",
      "8824/8824 [==============================] - 5s 566us/step - loss: 0.5180 - accuracy: 0.7748\n",
      "Epoch 3/10\n",
      "8824/8824 [==============================] - 5s 570us/step - loss: 0.4377 - accuracy: 0.8088\n",
      "Epoch 4/10\n",
      "8824/8824 [==============================] - 5s 563us/step - loss: 0.3380 - accuracy: 0.8680\n",
      "Epoch 5/10\n",
      "8824/8824 [==============================] - 5s 557us/step - loss: 0.2700 - accuracy: 0.9005\n",
      "Epoch 6/10\n",
      "8824/8824 [==============================] - 5s 564us/step - loss: 0.2252 - accuracy: 0.9173\n",
      "Epoch 7/10\n",
      "8824/8824 [==============================] - 5s 565us/step - loss: 0.1931 - accuracy: 0.9328\n",
      "Epoch 8/10\n",
      "8824/8824 [==============================] - 5s 574us/step - loss: 0.1683 - accuracy: 0.9406\n",
      "Epoch 9/10\n",
      "8824/8824 [==============================] - 5s 568us/step - loss: 0.1418 - accuracy: 0.9512\n",
      "Epoch 10/10\n",
      "8824/8824 [==============================] - 5s 557us/step - loss: 0.1258 - accuracy: 0.9584\n"
     ]
    }
   ],
   "source": [
    "with K.tf_ops.device('/device:GPU:0'):\n",
    "        hist = model.fit(X_train, y_train, batch_size = BATCH_SIZE,\n",
    "                     epochs = 10)"
   ]
  },
  {
   "cell_type": "code",
   "execution_count": 20,
   "metadata": {},
   "outputs": [
    {
     "data": {
      "image/png": "[encoded data removed]",
      "text/plain": [
       "<Figure size 432x288 with 1 Axes>"
      ]
     },
     "metadata": {
      "needs_background": "light"
     },
     "output_type": "display_data"
    }
   ],
   "source": [
    "%matplotlib inline\n",
    "import matplotlib.pyplot as plt\n",
    "\n",
    "plt.plot(hist.history['accuracy'])\n",
    "plt.plot(hist.history['loss'])\n",
    "plt.legend(['accuracy', 'loss'], loc = 'upper left')\n",
    "plt.show()"
   ]
  },
  {
   "cell_type": "code",
   "execution_count": 21,
   "metadata": {},
   "outputs": [
    {
     "name": "stdout",
     "output_type": "stream",
     "text": [
      "464/464 [==============================] - 2s 4ms/step\n",
      "Test accuracy:  0.8620689511299133\n"
     ]
    }
   ],
   "source": [
    "score = model.evaluate(X_test,y_test)\n",
    "print('Test accuracy: ', score[1])"
   ]
  },
  {
   "cell_type": "markdown",
   "metadata": {},
   "source": [
    "## VDCNN "
   ]
  },
  {
   "cell_type": "code",
   "execution_count": null,
   "metadata": {},
   "outputs": [],
   "source": []
  },
  {
   "cell_type": "code",
   "execution_count": null,
   "metadata": {},
   "outputs": [],
   "source": []
  }
 ],
 "metadata": {
  "kernelspec": {
   "display_name": "Python 3",
   "language": "python",
   "name": "python3"
  },
  "language_info": {
   "codemirror_mode": {
    "name": "ipython",
    "version": 3
   },
   "file_extension": ".py",
   "mimetype": "text/x-python",
   "name": "python",
   "nbconvert_exporter": "python",
   "pygments_lexer": "ipython3",
   "version": "3.6.8"
  }
 },
 "nbformat": 4,
 "nbformat_minor": 2
}
